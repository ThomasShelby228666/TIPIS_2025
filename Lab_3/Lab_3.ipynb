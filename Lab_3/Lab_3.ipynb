{
 "cells": [
  {
   "metadata": {},
   "cell_type": "markdown",
   "source": "## Импорт библиотек для анализа данных",
   "id": "10e12f00674577e9"
  },
  {
   "metadata": {},
   "cell_type": "code",
   "outputs": [],
   "execution_count": null,
   "source": [
    "import pandas as pd\n",
    "from sklearn.model_selection import train_test_split\n",
    "from sklearn.metrics import r2_score, mean_squared_error\n",
    "import warnings\n",
    "from catboost import CatBoostRegressor, Pool, cv"
   ],
   "id": "ccf74d74a97cad69"
  },
  {
   "metadata": {},
   "cell_type": "markdown",
   "source": "## Отключаем предупреждения",
   "id": "47246037a9f806e0"
  },
  {
   "metadata": {},
   "cell_type": "code",
   "outputs": [],
   "execution_count": null,
   "source": "warnings.filterwarnings(\"ignore\")",
   "id": "5030295557d515fa"
  },
  {
   "metadata": {},
   "cell_type": "markdown",
   "source": "## Считываем данные и выводим первые 5 строк",
   "id": "117544e60ddfc222"
  },
  {
   "metadata": {},
   "cell_type": "code",
   "source": [
    "df = pd.read_csv(\"diamonds_train.csv\")\n",
    "df.head()"
   ],
   "id": "9fe9ad3deaae41c7",
   "outputs": [],
   "execution_count": null
  },
  {
   "metadata": {},
   "cell_type": "markdown",
   "source": "## Выводим основную информацию о датасете",
   "id": "a8c055e9c3f8449"
  },
  {
   "metadata": {
    "ExecuteTime": {
     "end_time": "2025-10-15T11:21:29.612599Z",
     "start_time": "2025-10-15T11:21:29.592691Z"
    }
   },
   "cell_type": "code",
   "source": [
    "print(\"Информация о датасете: \")\n",
    "df.info()"
   ],
   "id": "36d78cb903c085d4",
   "outputs": [
    {
     "name": "stdout",
     "output_type": "stream",
     "text": [
      "Информация о датасете: \n",
      "<class 'pandas.core.frame.DataFrame'>\n",
      "RangeIndex: 43018 entries, 0 to 43017\n",
      "Data columns (total 10 columns):\n",
      " #   Column   Non-Null Count  Dtype  \n",
      "---  ------   --------------  -----  \n",
      " 0   carat    43018 non-null  float64\n",
      " 1   cut      43018 non-null  object \n",
      " 2   color    43018 non-null  object \n",
      " 3   clarity  43018 non-null  object \n",
      " 4   depth    43018 non-null  float64\n",
      " 5   table    43018 non-null  float64\n",
      " 6   price    43018 non-null  int64  \n",
      " 7   x        43018 non-null  float64\n",
      " 8   y        43018 non-null  float64\n",
      " 9   z        43018 non-null  float64\n",
      "dtypes: float64(6), int64(1), object(3)\n",
      "memory usage: 3.3+ MB\n"
     ]
    }
   ],
   "execution_count": 55
  },
  {
   "metadata": {},
   "cell_type": "markdown",
   "source": "## Проверем missing values",
   "id": "29d7b3204edfdfdf"
  },
  {
   "metadata": {},
   "cell_type": "code",
   "source": [
    "print(\"Проверка на отсутствующие значения: \")\n",
    "df.isnull().sum()"
   ],
   "id": "5e138bc264872b70",
   "outputs": [],
   "execution_count": null
  },
  {
   "metadata": {},
   "cell_type": "markdown",
   "source": "## Оцениваем статистические показатели",
   "id": "e2260304d945db14"
  },
  {
   "metadata": {},
   "cell_type": "code",
   "source": [
    "print(\"Статистические показатели: \")\n",
    "df.describe()"
   ],
   "id": "5c0aadda6aacc3d3",
   "outputs": [],
   "execution_count": null
  },
  {
   "metadata": {},
   "cell_type": "markdown",
   "source": "## Выделяем столбцы с признаками и столбец с целевой переменной",
   "id": "6d605e411c7fa737"
  },
  {
   "metadata": {
    "ExecuteTime": {
     "end_time": "2025-10-15T11:23:21.342564Z",
     "start_time": "2025-10-15T11:23:21.322368Z"
    }
   },
   "cell_type": "code",
   "source": [
    "x = df.drop(\"price\", axis=1)\n",
    "y = df[\"price\"]"
   ],
   "id": "873b7d6dd905b802",
   "outputs": [],
   "execution_count": 56
  },
  {
   "metadata": {},
   "cell_type": "markdown",
   "source": "## Находим категориальные признаки (необходимо для работы CatBoost)",
   "id": "782ff6be24b906c4"
  },
  {
   "metadata": {
    "ExecuteTime": {
     "end_time": "2025-10-15T11:23:24.632697Z",
     "start_time": "2025-10-15T11:23:24.612867Z"
    }
   },
   "cell_type": "code",
   "source": [
    "cat_features = x.select_dtypes(include=\"object\").columns.tolist()\n",
    "print(f\"Категориальные признаки: {cat_features}\")"
   ],
   "id": "5cd212f21bc85125",
   "outputs": [
    {
     "name": "stdout",
     "output_type": "stream",
     "text": [
      "Категориальные признаки: ['cut', 'color', 'clarity']\n"
     ]
    }
   ],
   "execution_count": 57
  },
  {
   "metadata": {},
   "cell_type": "markdown",
   "source": "## Разделяем на train и test",
   "id": "3873b808ac10250c"
  },
  {
   "metadata": {
    "ExecuteTime": {
     "end_time": "2025-10-15T11:23:45.092839Z",
     "start_time": "2025-10-15T11:23:45.072725Z"
    }
   },
   "cell_type": "code",
   "source": [
    "x_train, x_test, y_train, y_test = train_test_split(x, y, test_size=0.2,\n",
    "random_state=42, shuffle=True)"
   ],
   "id": "ec9ccbf392f3df34",
   "outputs": [],
   "execution_count": 58
  },
  {
   "metadata": {},
   "cell_type": "markdown",
   "source": "## Задаём параметры модели для дальнейшей их корректировки с помощью кросс-валидации",
   "id": "4f16028dfc3002b0"
  },
  {
   "metadata": {
    "ExecuteTime": {
     "end_time": "2025-10-15T11:27:16.314612Z",
     "start_time": "2025-10-15T11:27:16.302690Z"
    }
   },
   "cell_type": "code",
   "source": [
    "params = {\n",
    "    \"iterations\": 500,\n",
    "    \"learning_rate\": 0.1,\n",
    "    \"depth\": 5,\n",
    "    \"loss_function\": \"RMSE\",\n",
    "    \"eval_metric\": \"R2\",\n",
    "    \"random_seed\": 42,\n",
    "    \"verbose\": 0\n",
    "}"
   ],
   "id": "82b84ea5991c39ed",
   "outputs": [],
   "execution_count": 59
  },
  {
   "metadata": {},
   "cell_type": "markdown",
   "source": "## Проводим кросс-валидацию на 5 folds",
   "id": "75cb1cc9951e231a"
  },
  {
   "metadata": {
    "ExecuteTime": {
     "end_time": "2025-10-15T11:28:39.556477Z",
     "start_time": "2025-10-15T11:27:19.532560Z"
    }
   },
   "cell_type": "code",
   "source": [
    "print(\"Кросс-валидация (5 фолдов): \")\n",
    "\n",
    "train_pool = Pool(x_train, y_train, cat_features=cat_features)\n",
    "\n",
    "cv_results = cv(\n",
    "    params=params,\n",
    "    pool=train_pool,\n",
    "    fold_count=5,\n",
    "    shuffle=True,\n",
    "    seed=42,\n",
    "    plot=True\n",
    ")"
   ],
   "id": "c130b293cf8c6de9",
   "outputs": [
    {
     "name": "stdout",
     "output_type": "stream",
     "text": [
      "Кросс-валидация (5 фолдов): \n"
     ]
    },
    {
     "data": {
      "text/plain": [
       "MetricVisualizer(layout=Layout(align_self='stretch', height='500px'))"
      ],
      "application/vnd.jupyter.widget-view+json": {
       "version_major": 2,
       "version_minor": 0,
       "model_id": "6b58b38fac2444639d62114de23c41da"
      }
     },
     "metadata": {},
     "output_type": "display_data"
    },
    {
     "name": "stdout",
     "output_type": "stream",
     "text": [
      "Training on fold [0/5]\n",
      "\n",
      "bestTest = 0.9814417347\n",
      "bestIteration = 498\n",
      "\n",
      "Training on fold [1/5]\n",
      "\n",
      "bestTest = 0.9803714296\n",
      "bestIteration = 498\n",
      "\n",
      "Training on fold [2/5]\n",
      "\n",
      "bestTest = 0.9829365363\n",
      "bestIteration = 496\n",
      "\n",
      "Training on fold [3/5]\n",
      "\n",
      "bestTest = 0.9805524092\n",
      "bestIteration = 499\n",
      "\n",
      "Training on fold [4/5]\n",
      "\n",
      "bestTest = 0.9816221463\n",
      "bestIteration = 498\n",
      "\n"
     ]
    }
   ],
   "execution_count": 60
  },
  {
   "metadata": {},
   "cell_type": "markdown",
   "source": "## Находим, при каких параметрах модель выдавала лучшие показатели",
   "id": "36fc89498f63147d"
  },
  {
   "metadata": {
    "ExecuteTime": {
     "end_time": "2025-10-15T11:28:53.141576Z",
     "start_time": "2025-10-15T11:28:53.133572Z"
    }
   },
   "cell_type": "code",
   "source": [
    "best_iter_idx = cv_results[\"test-R2-mean\"].idxmax()\n",
    "best_r2 = cv_results.loc[best_iter_idx, \"test-R2-mean\"]\n",
    "best_iteration = int(cv_results.loc[best_iter_idx, \"iterations\"])"
   ],
   "id": "727f65cbdd904658",
   "outputs": [],
   "execution_count": 61
  },
  {
   "metadata": {},
   "cell_type": "markdown",
   "source": "## Выводим эти показатели",
   "id": "19f6a1d7f7c85224"
  },
  {
   "metadata": {
    "ExecuteTime": {
     "end_time": "2025-10-15T11:28:56.324263Z",
     "start_time": "2025-10-15T11:28:56.308248Z"
    }
   },
   "cell_type": "code",
   "source": [
    "print(f\"Лучшая R²: {best_r2:.4f}\")\n",
    "print(f\"Лучшая итерация: {best_iteration}\")"
   ],
   "id": "7273ab628ade8e31",
   "outputs": [
    {
     "name": "stdout",
     "output_type": "stream",
     "text": [
      "Лучшая R²: 0.9814\n",
      "Лучшая итерация: 499\n"
     ]
    }
   ],
   "execution_count": 62
  },
  {
   "metadata": {},
   "cell_type": "markdown",
   "source": "## Задаём заново параметры для модели, с учётом кросс-валидации и обучаем модель",
   "id": "3ec4bc5a8cda5c22"
  },
  {
   "metadata": {
    "ExecuteTime": {
     "end_time": "2025-10-15T11:29:14.900448Z",
     "start_time": "2025-10-15T11:28:59.127878Z"
    }
   },
   "cell_type": "code",
   "source": [
    "final_model = CatBoostRegressor(\n",
    "    iterations=best_iteration,\n",
    "    learning_rate=params[\"learning_rate\"],\n",
    "    depth=params[\"depth\"],\n",
    "    loss_function=params[\"loss_function\"],\n",
    "    eval_metric=params[\"eval_metric\"],\n",
    "    random_seed=params[\"random_seed\"],\n",
    "    verbose=100,\n",
    "    cat_features=cat_features\n",
    ")\n",
    "\n",
    "final_model.fit(x_train, y_train)"
   ],
   "id": "8d905648ac267a1d",
   "outputs": [
    {
     "name": "stdout",
     "output_type": "stream",
     "text": [
      "0:\tlearn: 0.1588754\ttotal: 34.7ms\tremaining: 17.3s\n",
      "100:\tlearn: 0.9774337\ttotal: 3.18s\tremaining: 12.5s\n",
      "200:\tlearn: 0.9806334\ttotal: 6.05s\tremaining: 8.97s\n",
      "300:\tlearn: 0.9822126\ttotal: 8.99s\tremaining: 5.91s\n",
      "400:\tlearn: 0.9833079\ttotal: 12.1s\tremaining: 2.96s\n",
      "498:\tlearn: 0.9842384\ttotal: 15.3s\tremaining: 0us\n"
     ]
    },
    {
     "data": {
      "text/plain": [
       "<catboost.core.CatBoostRegressor at 0x2c083493ac0>"
      ]
     },
     "execution_count": 63,
     "metadata": {},
     "output_type": "execute_result"
    }
   ],
   "execution_count": 63
  },
  {
   "metadata": {},
   "cell_type": "markdown",
   "source": "## Делаем итоговое предсказание",
   "id": "b76d6bc6711133e4"
  },
  {
   "metadata": {
    "ExecuteTime": {
     "end_time": "2025-10-15T11:29:45.492211Z",
     "start_time": "2025-10-15T11:29:45.457200Z"
    }
   },
   "cell_type": "code",
   "source": "y_pred = final_model.predict(x_test)",
   "id": "12aa7d9724b61bdc",
   "outputs": [],
   "execution_count": 64
  },
  {
   "metadata": {},
   "cell_type": "markdown",
   "source": "## Получаем метрики для оценки",
   "id": "af4197eab61fc391"
  },
  {
   "metadata": {
    "ExecuteTime": {
     "end_time": "2025-10-15T11:29:48.102614Z",
     "start_time": "2025-10-15T11:29:48.082782Z"
    }
   },
   "cell_type": "code",
   "source": [
    "test_r2 = r2_score(y_test, y_pred)\n",
    "test_rmse = mean_squared_error(y_test, y_pred)"
   ],
   "id": "378d9e94e96ea05",
   "outputs": [],
   "execution_count": 65
  },
  {
   "metadata": {},
   "cell_type": "markdown",
   "source": "## Выводим итоговые результаты",
   "id": "b72ee19cabd2a4dd"
  },
  {
   "metadata": {
    "ExecuteTime": {
     "end_time": "2025-10-15T11:29:50.166984Z",
     "start_time": "2025-10-15T11:29:50.152360Z"
    }
   },
   "cell_type": "code",
   "source": [
    "print(f\"Итоговые результаты: \")\n",
    "print(f\"R²: {test_r2:.4f}\")\n",
    "print(f\"RMSE: {test_rmse:,.2f}\")"
   ],
   "id": "d50aea55dc46616",
   "outputs": [
    {
     "name": "stdout",
     "output_type": "stream",
     "text": [
      "Итоговые результаты: \n",
      "R²: 0.9807\n",
      "RMSE: 311,754.01\n"
     ]
    }
   ],
   "execution_count": 66
  },
  {
   "metadata": {},
   "cell_type": "markdown",
   "source": "## Сохраняем модель",
   "id": "a9d5772f9e66d252"
  },
  {
   "metadata": {
    "ExecuteTime": {
     "end_time": "2025-10-15T11:29:52.352413Z",
     "start_time": "2025-10-15T11:29:52.332774Z"
    }
   },
   "cell_type": "code",
   "source": [
    "import joblib\n",
    "\n",
    "joblib.dump(final_model, \"final_model.pkl\")"
   ],
   "id": "cb874724d30d5308",
   "outputs": [
    {
     "data": {
      "text/plain": [
       "['final_model.pkl']"
      ]
     },
     "execution_count": 67,
     "metadata": {},
     "output_type": "execute_result"
    }
   ],
   "execution_count": 67
  },
  {
   "metadata": {},
   "cell_type": "markdown",
   "source": "## Считываем файл с тестовыми данными, при необходимости загружаем модель (если программа запускается заново)",
   "id": "215302497779fb52"
  },
  {
   "metadata": {
    "ExecuteTime": {
     "end_time": "2025-10-15T11:29:54.082137Z",
     "start_time": "2025-10-15T11:29:54.062279Z"
    }
   },
   "cell_type": "code",
   "source": [
    "df_test = pd.read_csv(\"diamonds_test.csv\")\n",
    "\n",
    "# final_model = joblib.load(\"final_model.pkl\")"
   ],
   "id": "e7f90e79ab157d4b",
   "outputs": [],
   "execution_count": 68
  },
  {
   "metadata": {},
   "cell_type": "markdown",
   "source": "## Выводим первые 5 строк датасета",
   "id": "f6cb0dc84ae8d308"
  },
  {
   "metadata": {
    "ExecuteTime": {
     "end_time": "2025-10-15T11:29:55.640334Z",
     "start_time": "2025-10-15T11:29:55.622294Z"
    }
   },
   "cell_type": "code",
   "source": [
    "print(\"diamonds_test.csv\")\n",
    "df_test.head()"
   ],
   "id": "41fd872d9874e3e5",
   "outputs": [
    {
     "name": "stdout",
     "output_type": "stream",
     "text": [
      "diamonds_test.csv\n"
     ]
    },
    {
     "data": {
      "text/plain": [
       "   id  carat        cut color clarity  depth  table     x     y     z\n",
       "0   0   1.02       Good     F     SI2   59.2   58.0  6.51  6.56  3.87\n",
       "1   1   0.70  Very Good     I    VVS1   59.5   58.0  5.78  5.81  3.45\n",
       "2   2   0.32  Very Good     H    VVS2   63.4   56.0  4.37  4.34  2.76\n",
       "3   3   0.42      Ideal     F    VVS2   62.2   56.0  4.79  4.82  2.99\n",
       "4   4   0.40      Ideal     F     VS2   62.3   54.0  4.74  4.77  2.96"
      ],
      "text/html": [
       "<div>\n",
       "<style scoped>\n",
       "    .dataframe tbody tr th:only-of-type {\n",
       "        vertical-align: middle;\n",
       "    }\n",
       "\n",
       "    .dataframe tbody tr th {\n",
       "        vertical-align: top;\n",
       "    }\n",
       "\n",
       "    .dataframe thead th {\n",
       "        text-align: right;\n",
       "    }\n",
       "</style>\n",
       "<table border=\"1\" class=\"dataframe\">\n",
       "  <thead>\n",
       "    <tr style=\"text-align: right;\">\n",
       "      <th></th>\n",
       "      <th>id</th>\n",
       "      <th>carat</th>\n",
       "      <th>cut</th>\n",
       "      <th>color</th>\n",
       "      <th>clarity</th>\n",
       "      <th>depth</th>\n",
       "      <th>table</th>\n",
       "      <th>x</th>\n",
       "      <th>y</th>\n",
       "      <th>z</th>\n",
       "    </tr>\n",
       "  </thead>\n",
       "  <tbody>\n",
       "    <tr>\n",
       "      <th>0</th>\n",
       "      <td>0</td>\n",
       "      <td>1.02</td>\n",
       "      <td>Good</td>\n",
       "      <td>F</td>\n",
       "      <td>SI2</td>\n",
       "      <td>59.2</td>\n",
       "      <td>58.0</td>\n",
       "      <td>6.51</td>\n",
       "      <td>6.56</td>\n",
       "      <td>3.87</td>\n",
       "    </tr>\n",
       "    <tr>\n",
       "      <th>1</th>\n",
       "      <td>1</td>\n",
       "      <td>0.70</td>\n",
       "      <td>Very Good</td>\n",
       "      <td>I</td>\n",
       "      <td>VVS1</td>\n",
       "      <td>59.5</td>\n",
       "      <td>58.0</td>\n",
       "      <td>5.78</td>\n",
       "      <td>5.81</td>\n",
       "      <td>3.45</td>\n",
       "    </tr>\n",
       "    <tr>\n",
       "      <th>2</th>\n",
       "      <td>2</td>\n",
       "      <td>0.32</td>\n",
       "      <td>Very Good</td>\n",
       "      <td>H</td>\n",
       "      <td>VVS2</td>\n",
       "      <td>63.4</td>\n",
       "      <td>56.0</td>\n",
       "      <td>4.37</td>\n",
       "      <td>4.34</td>\n",
       "      <td>2.76</td>\n",
       "    </tr>\n",
       "    <tr>\n",
       "      <th>3</th>\n",
       "      <td>3</td>\n",
       "      <td>0.42</td>\n",
       "      <td>Ideal</td>\n",
       "      <td>F</td>\n",
       "      <td>VVS2</td>\n",
       "      <td>62.2</td>\n",
       "      <td>56.0</td>\n",
       "      <td>4.79</td>\n",
       "      <td>4.82</td>\n",
       "      <td>2.99</td>\n",
       "    </tr>\n",
       "    <tr>\n",
       "      <th>4</th>\n",
       "      <td>4</td>\n",
       "      <td>0.40</td>\n",
       "      <td>Ideal</td>\n",
       "      <td>F</td>\n",
       "      <td>VS2</td>\n",
       "      <td>62.3</td>\n",
       "      <td>54.0</td>\n",
       "      <td>4.74</td>\n",
       "      <td>4.77</td>\n",
       "      <td>2.96</td>\n",
       "    </tr>\n",
       "  </tbody>\n",
       "</table>\n",
       "</div>"
      ]
     },
     "execution_count": 69,
     "metadata": {},
     "output_type": "execute_result"
    }
   ],
   "execution_count": 69
  },
  {
   "metadata": {},
   "cell_type": "markdown",
   "source": "## Выводим информацию о тестовом наборе данных",
   "id": "4e4dd9f77ec9d93f"
  },
  {
   "metadata": {
    "ExecuteTime": {
     "end_time": "2025-10-15T11:29:57.942499Z",
     "start_time": "2025-10-15T11:29:57.912562Z"
    }
   },
   "cell_type": "code",
   "source": [
    "print(\"Информация о датасете: \")\n",
    "df.info()"
   ],
   "id": "ee500c85020b5309",
   "outputs": [
    {
     "name": "stdout",
     "output_type": "stream",
     "text": [
      "Информация о датасете: \n",
      "<class 'pandas.core.frame.DataFrame'>\n",
      "RangeIndex: 43018 entries, 0 to 43017\n",
      "Data columns (total 10 columns):\n",
      " #   Column   Non-Null Count  Dtype  \n",
      "---  ------   --------------  -----  \n",
      " 0   carat    43018 non-null  float64\n",
      " 1   cut      43018 non-null  object \n",
      " 2   color    43018 non-null  object \n",
      " 3   clarity  43018 non-null  object \n",
      " 4   depth    43018 non-null  float64\n",
      " 5   table    43018 non-null  float64\n",
      " 6   price    43018 non-null  int64  \n",
      " 7   x        43018 non-null  float64\n",
      " 8   y        43018 non-null  float64\n",
      " 9   z        43018 non-null  float64\n",
      "dtypes: float64(6), int64(1), object(3)\n",
      "memory usage: 3.3+ MB\n"
     ]
    }
   ],
   "execution_count": 70
  },
  {
   "metadata": {},
   "cell_type": "markdown",
   "source": "## Делаем проверку отсутствующих значений в датасете",
   "id": "1f13f083648afd05"
  },
  {
   "metadata": {
    "ExecuteTime": {
     "end_time": "2025-10-15T11:29:59.512532Z",
     "start_time": "2025-10-15T11:29:59.492247Z"
    }
   },
   "cell_type": "code",
   "source": [
    "print(\"Проверка на отсутствующие значения: \")\n",
    "df.isnull().sum()"
   ],
   "id": "9f335ffadae0ded4",
   "outputs": [
    {
     "name": "stdout",
     "output_type": "stream",
     "text": [
      "Проверка на отсутствующие значения: \n"
     ]
    },
    {
     "data": {
      "text/plain": [
       "carat      0\n",
       "cut        0\n",
       "color      0\n",
       "clarity    0\n",
       "depth      0\n",
       "table      0\n",
       "price      0\n",
       "x          0\n",
       "y          0\n",
       "z          0\n",
       "dtype: int64"
      ]
     },
     "execution_count": 71,
     "metadata": {},
     "output_type": "execute_result"
    }
   ],
   "execution_count": 71
  },
  {
   "metadata": {},
   "cell_type": "markdown",
   "source": "## Выбираем нужные колонки для предсказания",
   "id": "2f95b6ef2ffe40a7"
  },
  {
   "metadata": {
    "ExecuteTime": {
     "end_time": "2025-10-15T11:30:02.242590Z",
     "start_time": "2025-10-15T11:30:02.222240Z"
    }
   },
   "cell_type": "code",
   "source": "df_test_features = df_test[x.columns]",
   "id": "30bc5e5dffd36b72",
   "outputs": [],
   "execution_count": 72
  },
  {
   "metadata": {},
   "cell_type": "markdown",
   "source": "## Делаем финальное предсказание",
   "id": "aa8def34a80a257a"
  },
  {
   "metadata": {
    "ExecuteTime": {
     "end_time": "2025-10-15T11:30:03.485033Z",
     "start_time": "2025-10-15T11:30:03.462376Z"
    }
   },
   "cell_type": "code",
   "source": [
    "y_submission = final_model.predict(df_test_features)\n",
    "\n",
    "submission = pd.DataFrame({\n",
    "        \"id\": df_test[\"id\"],\n",
    "        \"price\": y_submission\n",
    "    })"
   ],
   "id": "a306c7b86d926714",
   "outputs": [],
   "execution_count": 73
  },
  {
   "metadata": {},
   "cell_type": "markdown",
   "source": "## Сохраняем финальное предсказание в файл submission.csv",
   "id": "2b103d4cacee503c"
  },
  {
   "metadata": {
    "ExecuteTime": {
     "end_time": "2025-10-15T11:30:05.182077Z",
     "start_time": "2025-10-15T11:30:05.162728Z"
    }
   },
   "cell_type": "code",
   "source": [
    "submission.to_csv(\"submission.csv\", index=False)\n",
    "print(\"Сохранение submission.csv\")"
   ],
   "id": "378f8fe8513ed2b9",
   "outputs": [
    {
     "name": "stdout",
     "output_type": "stream",
     "text": [
      "Сохранение submission.csv\n"
     ]
    }
   ],
   "execution_count": 74
  }
 ],
 "metadata": {
  "kernelspec": {
   "display_name": "Python 3",
   "language": "python",
   "name": "python3"
  },
  "language_info": {
   "codemirror_mode": {
    "name": "ipython",
    "version": 2
   },
   "file_extension": ".py",
   "mimetype": "text/x-python",
   "name": "python",
   "nbconvert_exporter": "python",
   "pygments_lexer": "ipython2",
   "version": "2.7.6"
  }
 },
 "nbformat": 4,
 "nbformat_minor": 5
}
